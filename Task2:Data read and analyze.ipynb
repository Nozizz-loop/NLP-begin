## Task2 Data read and analyze
This chapter aimed to read and analyze data with `Pandas`
### Learning target
* To learn about reading contest data with `Pandas`
* Anlysing the distributed law of contest data
### Data read
```Python
import pandas as pd
train_df = pd.read_csv(r'C:\Users\Nozziz\Desktop\data\NLP_data_list_0715.csv',sep='\t',nrows=100)
```
The code above using methond `read_csv` contained in `Pandas` included three parameters:
- 1,filepath; The path of file
- 2,sep; Specify separator
- 3,nrows; Specify rows read of the data
```Python
train_df.head()
```
